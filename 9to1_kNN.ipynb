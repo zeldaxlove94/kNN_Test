{
 "cells": [
  {
   "cell_type": "code",
   "execution_count": 2,
   "metadata": {},
   "outputs": [
    {
     "name": "stdout",
     "output_type": "stream",
     "text": [
      "Best Score - KNN: 0.6953239555790587\n",
      "Best Parameter - KNN: {'leaf_size': 20, 'metric': 'chebyshev', 'n_neighbors': 9, 'p': 1, 'weights': 'uniform'}\n"
     ]
    },
    {
     "name": "stderr",
     "output_type": "stream",
     "text": [
      "C:\\Users\\katyh\\AppData\\Local\\Programs\\Python\\Python39\\lib\\site-packages\\sklearn\\neighbors\\_classification.py:198: DataConversionWarning: A column-vector y was passed when a 1d array was expected. Please change the shape of y to (n_samples,), for example using ravel().\n",
      "  return self._fit(X, y)\n"
     ]
    }
   ],
   "source": [
    "# %load kNN_GS.py\n",
    "\n",
    "from pandas.core.dtypes.missing import na_value_for_dtype\n",
    "from sklearn import datasets\n",
    "from sklearn.model_selection import train_test_split\n",
    "from sklearn.neighbors import KNeighborsClassifier\n",
    "from sklearn.preprocessing import StandardScaler\n",
    "from sklearn.model_selection import GridSearchCV\n",
    "import numpy as np\n",
    "import pandas as pd\n",
    "\n",
    "# Load files get datas\n",
    "\n",
    "file = './9to1TrainData.csv'\n",
    "testFile = './9to1TestData.csv'\n",
    "\n",
    "df1 = pd.read_csv(testFile, header = 0 ,usecols=[0,2,3,4,5,6,7,8,9], index_col=[0])\n",
    "df2 = pd.read_csv(testFile, header = 0 ,usecols=[0,10], index_col=[0])\n",
    "\n",
    "na1 = df1.to_numpy()\n",
    "na2 = df2.to_numpy()\n",
    "\n",
    "data = na1\n",
    "label = na2 \n",
    "\n",
    "# Spitting datas\n",
    "\n",
    "train_data , test_data , train_label , test_label = train_test_split(data,label,test_size = 0.2)\n",
    "\n",
    "# Parameter tuning with GridSearchCV \n",
    "\n",
    "estimator_KNN = KNeighborsClassifier(algorithm='auto')\n",
    "parameters_KNN = {'n_neighbors': (9,10,11),\n",
    "                  'leaf_size': (20,40),\n",
    "                  'p': (1,2),\n",
    "                  'weights': ('uniform', 'distance'),\n",
    "                  'metric': ('minkowski', 'chebyshev'),\n",
    "}\n",
    "                   \n",
    "# With GridSearch\n",
    "\n",
    "grid_search_KNN = GridSearchCV(\n",
    "    estimator=estimator_KNN,\n",
    "    param_grid=parameters_KNN,\n",
    "    scoring = 'accuracy',\n",
    "    n_jobs = -1,\n",
    "    cv = 3\n",
    ")\n",
    "\n",
    "KNN_1=grid_search_KNN.fit(train_data, train_label)\n",
    "y_pred_KNN1 =KNN_1.predict(test_data)\n",
    "\n",
    "# Mean cross-validated score of the best_estimator\n",
    "\n",
    "print('Best Score - KNN:', grid_search_KNN.best_score_ )\n",
    "\n",
    "# Parameter setting that gave the best results on the hold out data.\n",
    "\n",
    "print('Best Parameter - KNN:', grid_search_KNN.best_params_)\n",
    "\n",
    "# best parameter i got is {'leaf_size': 20, 'metric': 'chebyshev', 'n_neighbors': 9, 'p': 1, 'weights': 'uniform'}\n",
    "\n"
   ]
  },
  {
   "cell_type": "code",
   "execution_count": 51,
   "metadata": {},
   "outputs": [
    {
     "name": "stdout",
     "output_type": "stream",
     "text": [
      "0.7446808510638298\n",
      "[0.76190476 0.73076923]\n"
     ]
    },
    {
     "name": "stderr",
     "output_type": "stream",
     "text": [
      "C:\\Users\\katyh\\AppData\\Local\\Programs\\Python\\Python39\\lib\\site-packages\\sklearn\\neighbors\\_classification.py:198: DataConversionWarning: A column-vector y was passed when a 1d array was expected. Please change the shape of y to (n_samples,), for example using ravel().\n",
      "  return self._fit(X, y)\n"
     ]
    }
   ],
   "source": [
    "# %load kNN_sklearn.py\n",
    "\n",
    "from pandas.core.dtypes.missing import na_value_for_dtype\n",
    "from sklearn import datasets\n",
    "from sklearn.model_selection import train_test_split\n",
    "from sklearn.neighbors import KNeighborsClassifier\n",
    "from sklearn.metrics import accuracy_score\n",
    "from sklearn.metrics import precision_score\n",
    "from sklearn.preprocessing import StandardScaler\n",
    "from sklearn.model_selection import GridSearchCV\n",
    "import numpy as np\n",
    "import pandas as pd\n",
    "\n",
    "\n",
    "# Load files get datas\n",
    "\n",
    "file = './9to1TrainData.csv'\n",
    "testFile = './9to1TestData.csv'\n",
    "\n",
    "df1 = pd.read_csv(testFile, header = 0 ,usecols=[0,2,3,4,5,6,7,8,9], index_col=[0])\n",
    "df2 = pd.read_csv(testFile, header = 0 ,usecols=[0,10], index_col=[0])\n",
    "\n",
    "na1 = df1.to_numpy()\n",
    "na2 = df2.to_numpy()\n",
    "\n",
    "data = na1\n",
    "label = na2 \n",
    "\n",
    "# Spitting datas\n",
    "\n",
    "train_data , test_data , train_label , test_label = train_test_split(data,label,test_size = 0.2)\n",
    "\n",
    "# Use KNeighborsClassifier and train the model (Parameter from GS)\n",
    "\n",
    "knn = KNeighborsClassifier(n_neighbors = 9, leaf_size = 20, p = 1, weights = 'uniform', metric = 'chebyshev' , algorithm='brute') # 試驗後發現 algorithm='brute' 的效果最好\n",
    "knn.fit(train_data,train_label)\n",
    "\n",
    "\n",
    "df3 = knn.predict(test_data)\n",
    "df4 = test_label\n",
    "\n",
    "y_pred = df3\n",
    "y_true = df4\n",
    "\n",
    "# Get accuracy score and precision score\n",
    "\n",
    "a = accuracy_score(y_true, y_pred)\n",
    "print(a)\n",
    "p = precision_score(y_true, y_pred, average=None)\n",
    "print(p)\n",
    "\n",
    "testDF = pd.read_csv(testFile, header = 0 ,usecols=[0,2,3,4,5,6,7,8,9], index_col=[0])\n",
    "testNP = testDF.to_numpy()\n",
    "test_pred = knn.predict(testNP)\n",
    "index = pd.Series(data = testDF.index)\n",
    "test_pred = pd.Series(data=test_pred)\n",
    "output = pd.concat({'代號': index, 'label': test_pred},\n",
    "                        axis=1)\n",
    "\n",
    "\n",
    "# Outout the data\n",
    "output.to_csv('./9to1_kNN.csv',index = False)\n",
    "\n",
    "\n",
    "\n"
   ]
  },
  {
   "cell_type": "code",
   "execution_count": 46,
   "metadata": {},
   "outputs": [
    {
     "name": "stderr",
     "output_type": "stream",
     "text": [
      "C:\\Users\\katyh\\AppData\\Local\\Programs\\Python\\Python39\\lib\\site-packages\\sklearn\\neighbors\\_classification.py:198: DataConversionWarning: A column-vector y was passed when a 1d array was expected. Please change the shape of y to (n_samples,), for example using ravel().\n",
      "  return self._fit(X, y)\n"
     ]
    },
    {
     "data": {
      "image/png": "[encoded data removed]",
      "text/plain": [
       "<Figure size 432x288 with 1 Axes>"
      ]
     },
     "metadata": {
      "needs_background": "light"
     },
     "output_type": "display_data"
    }
   ],
   "source": [
    "# %load ROC_Curve.py\n",
    "\n",
    "from pandas.core.dtypes.missing import na_value_for_dtype\n",
    "from sklearn.model_selection import train_test_split\n",
    "from sklearn.neighbors import KNeighborsClassifier\n",
    "from sklearn.metrics import accuracy_score\n",
    "from sklearn.metrics import precision_score\n",
    "from sklearn.preprocessing import StandardScaler\n",
    "from sklearn.model_selection import GridSearchCV\n",
    "from sklearn.metrics import roc_curve\n",
    "from sklearn.metrics import auc\n",
    "import matplotlib.pyplot as plt\n",
    "import pandas as pd\n",
    "import numpy as np\n",
    "\n",
    "\n",
    "file = './9to1TrainData.csv'\n",
    "testFile = './9to1TestData.csv'\n",
    "\n",
    "df1 = pd.read_csv(testFile, header = 0 ,usecols=[0,2,3,4,5,6,7,8,9], index_col=[0])\n",
    "df2 = pd.read_csv(testFile, header = 0 ,usecols=[0,10], index_col=[0])\n",
    "\n",
    "na1 = df1.to_numpy()\n",
    "na2 = df2.to_numpy()\n",
    "\n",
    "data = na1\n",
    "label = na2 \n",
    "\n",
    "\n",
    "X_train, X_test, y_train, y_test = train_test_split(data,label,test_size = 0.2)\n",
    "\n",
    "knn = KNeighborsClassifier(n_neighbors = 10)\n",
    "knn.fit(X_train,y_train)\n",
    "\n",
    "y_scores = knn.predict_proba(X_test)\n",
    "fpr, tpr, threshold = roc_curve(y_test, y_scores[:, 1])\n",
    "roc_auc = auc(fpr, tpr)\n",
    "\n",
    "plt.title('Receiver Operating Characteristic')\n",
    "plt.plot(fpr, tpr, 'b', label = 'AUC = %0.2f' % roc_auc)\n",
    "plt.legend(loc = 'lower right')\n",
    "plt.plot([0, 1], [0, 1],'r--')\n",
    "plt.xlim([0, 1])\n",
    "plt.ylim([0, 1])\n",
    "plt.ylabel('True Positive Rate')\n",
    "plt.xlabel('False Positive Rate')\n",
    "plt.title('ROC Curve of kNN')\n",
    "plt.show()\n",
    "\n",
    "\n"
   ]
  }
 ],
 "metadata": {
  "interpreter": {
   "hash": "a91277e7bf7a411ac18a302cc44a5e39dd075c40534f003dc4079ab50220555e"
  },
  "kernelspec": {
   "display_name": "Python 3.9.7 64-bit",
   "language": "python",
   "name": "python3"
  },
  "language_info": {
   "codemirror_mode": {
    "name": "ipython",
    "version": 3
   },
   "file_extension": ".py",
   "mimetype": "text/x-python",
   "name": "python",
   "nbconvert_exporter": "python",
   "pygments_lexer": "ipython3",
   "version": "3.9.7"
  },
  "orig_nbformat": 4
 },
 "nbformat": 4,
 "nbformat_minor": 2
}
